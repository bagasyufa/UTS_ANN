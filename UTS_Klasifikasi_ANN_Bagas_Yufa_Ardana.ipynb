{
  "nbformat": 4,
  "nbformat_minor": 0,
  "metadata": {
    "colab": {
      "name": "UTS Klasifikasi ANN Bagas Yufa Ardana.ipynb",
      "provenance": []
    },
    "kernelspec": {
      "display_name": "Python 3",
      "name": "python3"
    },
    "language_info": {
      "name": "python"
    }
  },
  "cells": [
    {
      "cell_type": "code",
      "metadata": {
        "colab": {
          "base_uri": "https://localhost:8080/"
        },
        "id": "3HPvxa33OocU",
        "outputId": "772b206a-0cbe-40a1-be67-8706242b7216"
      },
      "source": [
        "from google.colab import drive\n",
        "drive.mount('/content/drive')"
      ],
      "execution_count": 1,
      "outputs": [
        {
          "output_type": "stream",
          "text": [
            "Drive already mounted at /content/drive; to attempt to forcibly remount, call drive.mount(\"/content/drive\", force_remount=True).\n"
          ],
          "name": "stdout"
        }
      ]
    },
    {
      "cell_type": "code",
      "metadata": {
        "colab": {
          "base_uri": "https://localhost:8080/"
        },
        "id": "8pHJt9diPiK1",
        "outputId": "ed0c1ef4-6caf-4872-950b-2200e60ff5b9"
      },
      "source": [
        "cd /content/drive/MyDrive/Colab Notebooks"
      ],
      "execution_count": 2,
      "outputs": [
        {
          "output_type": "stream",
          "text": [
            "/content/drive/MyDrive/Colab Notebooks\n"
          ],
          "name": "stdout"
        }
      ]
    },
    {
      "cell_type": "code",
      "metadata": {
        "colab": {
          "base_uri": "https://localhost:8080/"
        },
        "id": "CON8T9GKTISZ",
        "outputId": "ecae7878-c01f-49c9-a871-62834faaa1f5"
      },
      "source": [
        "ls"
      ],
      "execution_count": 3,
      "outputs": [
        {
          "output_type": "stream",
          "text": [
            "\u001b[0m\u001b[01;34m3Sense\u001b[0m/  Untitled0.ipynb\n"
          ],
          "name": "stdout"
        }
      ]
    },
    {
      "cell_type": "code",
      "metadata": {
        "id": "gIetp3K8TPKY"
      },
      "source": [
        "# import the necessary packages\n",
        "from keras.models import Sequential\n",
        "from keras.layers.core import Activation\n",
        "from keras.layers.core import Flatten\n",
        "from keras.layers.core import Dense\n",
        "from keras.optimizers import Adam\n",
        "from sklearn.preprocessing import LabelBinarizer\n",
        "from sklearn.model_selection import train_test_split\n",
        "from sklearn.metrics import classification_report\n",
        "from PIL import Image\n",
        "from imutils import paths\n",
        "import numpy as np\n",
        "import os"
      ],
      "execution_count": 4,
      "outputs": []
    },
    {
      "cell_type": "code",
      "metadata": {
        "colab": {
          "base_uri": "https://localhost:8080/"
        },
        "id": "xJro755DTatc",
        "outputId": "798eddff-1eed-49fc-88be-e463f50c553e"
      },
      "source": [
        "# grab all image paths in the input dataset directory, then initialize\n",
        "# our list of images and corresponding class labels\n",
        "print(\"[INFO] loading images...\")\n",
        "imagePaths = paths.list_images(\"3Sense\")\n",
        "data = []\n",
        "labels = []"
      ],
      "execution_count": 5,
      "outputs": [
        {
          "output_type": "stream",
          "text": [
            "[INFO] loading images...\n"
          ],
          "name": "stdout"
        }
      ]
    },
    {
      "cell_type": "code",
      "metadata": {
        "id": "8YC5BeL7TilA"
      },
      "source": [
        "# loop over our input images\n",
        "for imagePath in imagePaths:\n",
        "\t# load the input image from disk, resize it to 64x64 pixels, scale\n",
        "\t# the pixel intensities to the range [0, 1], and then update our\n",
        "\t# images list\n",
        "\timage = Image.open(imagePath)\n",
        " #bisa pasang preprocessing disini jika mau, seperti filterring, dll\n",
        "\timage = np.array(image.resize((128, 128))) / 255.0 #normalisasi\n",
        "\tdata.append(image)\n",
        "\n",
        "\t# extract the class label from the file path and update the\n",
        "\t# labels list\n",
        "\tlabel = imagePath.split(os.path.sep)[-2]\n",
        "\tlabels.append(label)"
      ],
      "execution_count": 6,
      "outputs": []
    },
    {
      "cell_type": "code",
      "metadata": {
        "colab": {
          "base_uri": "https://localhost:8080/"
        },
        "id": "Cw_qv6v1TnRy",
        "outputId": "5bb9276c-93f4-485d-a062-e670060fe34f"
      },
      "source": [
        "print(labels)"
      ],
      "execution_count": 7,
      "outputs": [
        {
          "output_type": "stream",
          "text": [
            "['coast', 'coast', 'coast', 'coast', 'coast', 'coast', 'coast', 'coast', 'coast', 'coast', 'coast', 'coast', 'coast', 'coast', 'coast', 'coast', 'coast', 'coast', 'coast', 'coast', 'coast', 'coast', 'coast', 'coast', 'coast', 'coast', 'coast', 'coast', 'coast', 'coast', 'coast', 'coast', 'coast', 'coast', 'coast', 'coast', 'coast', 'coast', 'coast', 'coast', 'coast', 'coast', 'coast', 'coast', 'coast', 'coast', 'coast', 'coast', 'coast', 'coast', 'coast', 'coast', 'coast', 'coast', 'coast', 'coast', 'coast', 'coast', 'coast', 'coast', 'coast', 'coast', 'coast', 'coast', 'coast', 'coast', 'coast', 'coast', 'coast', 'coast', 'coast', 'coast', 'coast', 'coast', 'coast', 'coast', 'coast', 'coast', 'coast', 'coast', 'coast', 'coast', 'coast', 'coast', 'coast', 'coast', 'coast', 'coast', 'coast', 'coast', 'coast', 'coast', 'coast', 'coast', 'coast', 'coast', 'coast', 'coast', 'coast', 'coast', 'coast', 'coast', 'coast', 'coast', 'coast', 'coast', 'coast', 'coast', 'coast', 'coast', 'coast', 'coast', 'coast', 'coast', 'coast', 'coast', 'coast', 'coast', 'coast', 'coast', 'coast', 'coast', 'coast', 'coast', 'coast', 'coast', 'coast', 'coast', 'coast', 'coast', 'coast', 'coast', 'coast', 'coast', 'coast', 'coast', 'coast', 'coast', 'coast', 'coast', 'coast', 'coast', 'coast', 'coast', 'coast', 'coast', 'coast', 'coast', 'coast', 'coast', 'coast', 'coast', 'coast', 'coast', 'coast', 'coast', 'coast', 'coast', 'coast', 'coast', 'coast', 'coast', 'coast', 'coast', 'coast', 'coast', 'coast', 'coast', 'coast', 'coast', 'coast', 'coast', 'coast', 'coast', 'coast', 'coast', 'coast', 'coast', 'coast', 'coast', 'coast', 'coast', 'coast', 'coast', 'coast', 'coast', 'coast', 'coast', 'coast', 'coast', 'coast', 'coast', 'coast', 'coast', 'coast', 'coast', 'coast', 'coast', 'coast', 'coast', 'coast', 'coast', 'coast', 'coast', 'coast', 'coast', 'coast', 'coast', 'coast', 'coast', 'coast', 'coast', 'coast', 'coast', 'coast', 'coast', 'coast', 'coast', 'coast', 'coast', 'coast', 'coast', 'coast', 'coast', 'coast', 'coast', 'coast', 'coast', 'coast', 'coast', 'coast', 'coast', 'coast', 'coast', 'coast', 'coast', 'coast', 'coast', 'coast', 'coast', 'coast', 'coast', 'coast', 'coast', 'coast', 'coast', 'coast', 'coast', 'coast', 'coast', 'coast', 'coast', 'coast', 'coast', 'coast', 'coast', 'coast', 'coast', 'coast', 'coast', 'coast', 'coast', 'coast', 'coast', 'coast', 'coast', 'coast', 'coast', 'coast', 'coast', 'coast', 'coast', 'coast', 'coast', 'coast', 'coast', 'coast', 'coast', 'coast', 'coast', 'coast', 'coast', 'coast', 'coast', 'coast', 'coast', 'coast', 'coast', 'coast', 'coast', 'coast', 'coast', 'coast', 'coast', 'coast', 'coast', 'coast', 'coast', 'coast', 'coast', 'coast', 'coast', 'coast', 'coast', 'coast', 'coast', 'coast', 'coast', 'coast', 'coast', 'coast', 'coast', 'coast', 'coast', 'coast', 'coast', 'coast', 'coast', 'coast', 'coast', 'coast', 'coast', 'coast', 'coast', 'coast', 'coast', 'coast', 'coast', 'coast', 'coast', 'coast', 'coast', 'coast', 'coast', 'coast', 'coast', 'coast', 'coast', 'coast', 'coast', 'coast', 'coast', 'coast', 'coast', 'coast', 'coast', 'coast', 'coast', 'coast', 'coast', 'coast', 'coast', 'coast', 'coast', 'coast', 'coast', 'coast', 'coast', 'coast', 'coast', 'highway', 'highway', 'highway', 'highway', 'highway', 'highway', 'highway', 'highway', 'highway', 'highway', 'highway', 'highway', 'highway', 'highway', 'highway', 'highway', 'highway', 'highway', 'highway', 'highway', 'highway', 'highway', 'highway', 'highway', 'highway', 'highway', 'highway', 'highway', 'highway', 'highway', 'highway', 'highway', 'highway', 'highway', 'highway', 'highway', 'highway', 'highway', 'highway', 'highway', 'highway', 'highway', 'highway', 'highway', 'highway', 'highway', 'highway', 'highway', 'highway', 'highway', 'highway', 'highway', 'highway', 'highway', 'highway', 'highway', 'highway', 'highway', 'highway', 'highway', 'highway', 'highway', 'highway', 'highway', 'highway', 'highway', 'highway', 'highway', 'highway', 'highway', 'highway', 'highway', 'highway', 'highway', 'highway', 'highway', 'highway', 'highway', 'highway', 'highway', 'highway', 'highway', 'highway', 'highway', 'highway', 'highway', 'highway', 'highway', 'highway', 'highway', 'highway', 'highway', 'highway', 'highway', 'highway', 'highway', 'highway', 'highway', 'highway', 'highway', 'highway', 'highway', 'highway', 'highway', 'highway', 'highway', 'highway', 'highway', 'highway', 'highway', 'highway', 'highway', 'highway', 'highway', 'highway', 'highway', 'highway', 'highway', 'highway', 'highway', 'highway', 'highway', 'highway', 'highway', 'highway', 'highway', 'highway', 'highway', 'highway', 'highway', 'highway', 'highway', 'highway', 'highway', 'highway', 'highway', 'highway', 'highway', 'highway', 'highway', 'highway', 'highway', 'highway', 'highway', 'highway', 'highway', 'highway', 'highway', 'highway', 'highway', 'highway', 'highway', 'highway', 'highway', 'highway', 'highway', 'highway', 'highway', 'highway', 'highway', 'highway', 'highway', 'highway', 'highway', 'highway', 'highway', 'highway', 'highway', 'highway', 'highway', 'highway', 'highway', 'highway', 'highway', 'highway', 'highway', 'highway', 'highway', 'highway', 'highway', 'highway', 'highway', 'highway', 'highway', 'highway', 'highway', 'highway', 'highway', 'highway', 'highway', 'highway', 'highway', 'highway', 'highway', 'highway', 'highway', 'highway', 'highway', 'highway', 'highway', 'highway', 'highway', 'highway', 'highway', 'highway', 'highway', 'highway', 'highway', 'highway', 'highway', 'highway', 'highway', 'highway', 'highway', 'highway', 'highway', 'highway', 'highway', 'highway', 'highway', 'highway', 'highway', 'highway', 'highway', 'highway', 'highway', 'highway', 'highway', 'highway', 'highway', 'highway', 'highway', 'highway', 'highway', 'highway', 'highway', 'highway', 'highway', 'highway', 'highway', 'highway', 'highway', 'highway', 'highway', 'highway', 'highway', 'highway', 'highway', 'highway', 'highway', 'highway', 'highway', 'highway', 'highway', 'highway', 'highway', 'highway', 'highway', 'highway', 'highway', 'forest', 'forest', 'forest', 'forest', 'forest', 'forest', 'forest', 'forest', 'forest', 'forest', 'forest', 'forest', 'forest', 'forest', 'forest', 'forest', 'forest', 'forest', 'forest', 'forest', 'forest', 'forest', 'forest', 'forest', 'forest', 'forest', 'forest', 'forest', 'forest', 'forest', 'forest', 'forest', 'forest', 'forest', 'forest', 'forest', 'forest', 'forest', 'forest', 'forest', 'forest', 'forest', 'forest', 'forest', 'forest', 'forest', 'forest', 'forest', 'forest', 'forest', 'forest', 'forest', 'forest', 'forest', 'forest', 'forest', 'forest', 'forest', 'forest', 'forest', 'forest', 'forest', 'forest', 'forest', 'forest', 'forest', 'forest', 'forest', 'forest', 'forest', 'forest', 'forest', 'forest', 'forest', 'forest', 'forest', 'forest', 'forest', 'forest', 'forest', 'forest', 'forest', 'forest', 'forest', 'forest', 'forest', 'forest', 'forest', 'forest', 'forest', 'forest', 'forest', 'forest', 'forest', 'forest', 'forest', 'forest', 'forest', 'forest', 'forest', 'forest', 'forest', 'forest', 'forest', 'forest', 'forest', 'forest', 'forest', 'forest', 'forest', 'forest', 'forest', 'forest', 'forest', 'forest', 'forest', 'forest', 'forest', 'forest', 'forest', 'forest', 'forest', 'forest', 'forest', 'forest', 'forest', 'forest', 'forest', 'forest', 'forest', 'forest', 'forest', 'forest', 'forest', 'forest', 'forest', 'forest', 'forest', 'forest', 'forest', 'forest', 'forest', 'forest', 'forest', 'forest', 'forest', 'forest', 'forest', 'forest', 'forest', 'forest', 'forest', 'forest', 'forest', 'forest', 'forest', 'forest', 'forest', 'forest', 'forest', 'forest', 'forest', 'forest', 'forest', 'forest', 'forest', 'forest', 'forest', 'forest', 'forest', 'forest', 'forest', 'forest', 'forest', 'forest', 'forest', 'forest', 'forest', 'forest', 'forest', 'forest', 'forest', 'forest', 'forest', 'forest', 'forest', 'forest', 'forest', 'forest', 'forest', 'forest', 'forest', 'forest', 'forest', 'forest', 'forest', 'forest', 'forest', 'forest', 'forest', 'forest', 'forest', 'forest', 'forest', 'forest', 'forest', 'forest', 'forest', 'forest', 'forest', 'forest', 'forest', 'forest', 'forest', 'forest', 'forest', 'forest', 'forest', 'forest', 'forest', 'forest', 'forest', 'forest', 'forest', 'forest', 'forest', 'forest', 'forest', 'forest', 'forest', 'forest', 'forest', 'forest', 'forest', 'forest', 'forest', 'forest', 'forest', 'forest', 'forest', 'forest', 'forest', 'forest', 'forest', 'forest', 'forest', 'forest', 'forest', 'forest', 'forest', 'forest', 'forest', 'forest', 'forest', 'forest', 'forest', 'forest', 'forest', 'forest', 'forest', 'forest', 'forest', 'forest', 'forest', 'forest', 'forest', 'forest', 'forest', 'forest', 'forest', 'forest', 'forest', 'forest', 'forest', 'forest', 'forest', 'forest', 'forest', 'forest', 'forest', 'forest', 'forest', 'forest', 'forest', 'forest', 'forest', 'forest', 'forest', 'forest', 'forest', 'forest', 'forest', 'forest', 'forest', 'forest', 'forest', 'forest', 'forest', 'forest', 'forest', 'forest', 'forest', 'forest', 'forest', 'forest', 'forest', 'forest', 'forest', 'forest', 'forest', 'forest', 'forest', 'forest', 'forest', 'forest', 'forest', 'forest', 'forest', 'forest', 'forest', 'forest', 'forest', 'forest', 'forest', 'forest', 'forest', 'forest', 'forest']\n"
          ],
          "name": "stdout"
        }
      ]
    },
    {
      "cell_type": "code",
      "metadata": {
        "id": "so4SLOp8U9nS"
      },
      "source": [
        "# encode the labels, converting them from strings to integers\n",
        "lb = LabelBinarizer()\n",
        "labels = lb.fit_transform(labels)"
      ],
      "execution_count": 8,
      "outputs": []
    },
    {
      "cell_type": "code",
      "metadata": {
        "colab": {
          "base_uri": "https://localhost:8080/"
        },
        "id": "Sftxsd6rVCvr",
        "outputId": "4d8b88fb-55de-448d-eee7-1693a16684e9"
      },
      "source": [
        "print(labels)"
      ],
      "execution_count": 9,
      "outputs": [
        {
          "output_type": "stream",
          "text": [
            "[[1 0 0]\n",
            " [1 0 0]\n",
            " [1 0 0]\n",
            " ...\n",
            " [0 1 0]\n",
            " [0 1 0]\n",
            " [0 1 0]]\n"
          ],
          "name": "stdout"
        }
      ]
    },
    {
      "cell_type": "code",
      "metadata": {
        "colab": {
          "base_uri": "https://localhost:8080/"
        },
        "id": "MxBalVeeVGXS",
        "outputId": "c24c4c7e-dfda-4c96-d78f-06d1b4b090ca"
      },
      "source": [
        "print(np.array(data).shape)"
      ],
      "execution_count": 10,
      "outputs": [
        {
          "output_type": "stream",
          "text": [
            "(948, 128, 128, 3)\n"
          ],
          "name": "stdout"
        }
      ]
    },
    {
      "cell_type": "code",
      "metadata": {
        "colab": {
          "base_uri": "https://localhost:8080/"
        },
        "id": "qb5ZzIZlVJF3",
        "outputId": "085cf2d4-468d-4969-8097-e104f7c3e5bd"
      },
      "source": [
        "# perform a training and testing split, using 75% of the data for\n",
        "# training and 25% for evaluation\n",
        "(trainX, testX, trainY, testY) = train_test_split(np.array(data),\tnp.array(labels), test_size=0.25)\n",
        "print(trainX.shape)\n",
        "print(testX.shape)"
      ],
      "execution_count": 11,
      "outputs": [
        {
          "output_type": "stream",
          "text": [
            "(711, 128, 128, 3)\n",
            "(237, 128, 128, 3)\n"
          ],
          "name": "stdout"
        }
      ]
    },
    {
      "cell_type": "code",
      "metadata": {
        "id": "8YcBRPfDVNCQ"
      },
      "source": [
        "from keras.models import Sequential\n",
        "from keras.layers.core import Flatten\n",
        "from keras.layers.core import Dense, Dropout\n",
        "\n",
        "model = Sequential(\n",
        "    [\n",
        "        Flatten(input_shape=(128*128*3,)),\n",
        "        Dense(256, activation=\"relu\"),\n",
        "        Dense(128, activation=\"relu\"),\n",
        "        Dropout(0.125),\n",
        "        Dense(64, activation=\"relu\"),\n",
        "        Dense(32, activation=\"relu\"), \n",
        "        Dense(16, activation=\"relu\"),\n",
        "        Dropout(0.120),\n",
        "        Dense(8, activation=\"relu\"),\n",
        "        Dense(3, activation = \"softmax\"),\n",
        "    ]\n",
        ")"
      ],
      "execution_count": 37,
      "outputs": []
    },
    {
      "cell_type": "code",
      "metadata": {
        "colab": {
          "base_uri": "https://localhost:8080/"
        },
        "id": "bqICWxKtVQ2d",
        "outputId": "dc29a3fb-c38f-450a-adb8-53191d543ee6"
      },
      "source": [
        "model.summary()"
      ],
      "execution_count": 38,
      "outputs": [
        {
          "output_type": "stream",
          "text": [
            "Model: \"sequential_5\"\n",
            "_________________________________________________________________\n",
            "Layer (type)                 Output Shape              Param #   \n",
            "=================================================================\n",
            "flatten_5 (Flatten)          (None, 49152)             0         \n",
            "_________________________________________________________________\n",
            "dense_35 (Dense)             (None, 256)               12583168  \n",
            "_________________________________________________________________\n",
            "dense_36 (Dense)             (None, 128)               32896     \n",
            "_________________________________________________________________\n",
            "dropout_8 (Dropout)          (None, 128)               0         \n",
            "_________________________________________________________________\n",
            "dense_37 (Dense)             (None, 64)                8256      \n",
            "_________________________________________________________________\n",
            "dense_38 (Dense)             (None, 32)                2080      \n",
            "_________________________________________________________________\n",
            "dense_39 (Dense)             (None, 16)                528       \n",
            "_________________________________________________________________\n",
            "dropout_9 (Dropout)          (None, 16)                0         \n",
            "_________________________________________________________________\n",
            "dense_40 (Dense)             (None, 8)                 136       \n",
            "_________________________________________________________________\n",
            "dense_41 (Dense)             (None, 3)                 27        \n",
            "=================================================================\n",
            "Total params: 12,627,091\n",
            "Trainable params: 12,627,091\n",
            "Non-trainable params: 0\n",
            "_________________________________________________________________\n"
          ],
          "name": "stdout"
        }
      ]
    },
    {
      "cell_type": "code",
      "metadata": {
        "colab": {
          "base_uri": "https://localhost:8080/"
        },
        "id": "splk31VpVVhr",
        "outputId": "feeecd9a-1b40-4e1b-dbe3-8644588ed37b"
      },
      "source": [
        "# train the model using the Adam optimizer\n",
        "print(\"[INFO] training network...\")\n",
        "opt = Adam(lr=1e-3, decay=1e-3)\n",
        "model.compile(loss=\"categorical_crossentropy\", optimizer=opt,\n",
        "\tmetrics=[\"accuracy\"])\n",
        "H = model.fit(trainX, trainY, validation_data=(testX, testY), epochs=50, batch_size=32)\n"
      ],
      "execution_count": 39,
      "outputs": [
        {
          "output_type": "stream",
          "text": [
            "[INFO] training network...\n",
            "Epoch 1/50\n",
            "WARNING:tensorflow:Model was constructed with shape (None, 49152) for input KerasTensor(type_spec=TensorSpec(shape=(None, 49152), dtype=tf.float32, name='flatten_5_input'), name='flatten_5_input', description=\"created by layer 'flatten_5_input'\"), but it was called on an input with incompatible shape (None, 128, 128, 3).\n",
            "WARNING:tensorflow:Model was constructed with shape (None, 49152) for input KerasTensor(type_spec=TensorSpec(shape=(None, 49152), dtype=tf.float32, name='flatten_5_input'), name='flatten_5_input', description=\"created by layer 'flatten_5_input'\"), but it was called on an input with incompatible shape (None, 128, 128, 3).\n",
            "23/23 [==============================] - ETA: 0s - loss: 2.5648 - accuracy: 0.3658WARNING:tensorflow:Model was constructed with shape (None, 49152) for input KerasTensor(type_spec=TensorSpec(shape=(None, 49152), dtype=tf.float32, name='flatten_5_input'), name='flatten_5_input', description=\"created by layer 'flatten_5_input'\"), but it was called on an input with incompatible shape (None, 128, 128, 3).\n",
            "23/23 [==============================] - 3s 111ms/step - loss: 2.5447 - accuracy: 0.3660 - val_loss: 1.0985 - val_accuracy: 0.3882\n",
            "Epoch 2/50\n",
            "23/23 [==============================] - 2s 103ms/step - loss: 1.2872 - accuracy: 0.3776 - val_loss: 1.0975 - val_accuracy: 0.3882\n",
            "Epoch 3/50\n",
            "23/23 [==============================] - 2s 104ms/step - loss: 1.2471 - accuracy: 0.3503 - val_loss: 1.0964 - val_accuracy: 0.3882\n",
            "Epoch 4/50\n",
            "23/23 [==============================] - 2s 108ms/step - loss: 1.1269 - accuracy: 0.3187 - val_loss: 1.0958 - val_accuracy: 0.3882\n",
            "Epoch 5/50\n",
            "23/23 [==============================] - 2s 107ms/step - loss: 1.2270 - accuracy: 0.3055 - val_loss: 1.0971 - val_accuracy: 0.3207\n",
            "Epoch 6/50\n",
            "23/23 [==============================] - 2s 106ms/step - loss: 1.1262 - accuracy: 0.3076 - val_loss: 1.0944 - val_accuracy: 0.3882\n",
            "Epoch 7/50\n",
            "23/23 [==============================] - 2s 102ms/step - loss: 1.1036 - accuracy: 0.3553 - val_loss: 0.9913 - val_accuracy: 0.5570\n",
            "Epoch 8/50\n",
            "23/23 [==============================] - 2s 100ms/step - loss: 1.0593 - accuracy: 0.4284 - val_loss: 0.9552 - val_accuracy: 0.5865\n",
            "Epoch 9/50\n",
            "23/23 [==============================] - 2s 102ms/step - loss: 0.9942 - accuracy: 0.5170 - val_loss: 0.8646 - val_accuracy: 0.6245\n",
            "Epoch 10/50\n",
            "23/23 [==============================] - 2s 102ms/step - loss: 0.9730 - accuracy: 0.5376 - val_loss: 0.9920 - val_accuracy: 0.5949\n",
            "Epoch 11/50\n",
            "23/23 [==============================] - 2s 101ms/step - loss: 1.0355 - accuracy: 0.4421 - val_loss: 0.8721 - val_accuracy: 0.6414\n",
            "Epoch 12/50\n",
            "23/23 [==============================] - 2s 104ms/step - loss: 0.9366 - accuracy: 0.5580 - val_loss: 0.9021 - val_accuracy: 0.5274\n",
            "Epoch 13/50\n",
            "23/23 [==============================] - 3s 119ms/step - loss: 0.8242 - accuracy: 0.6190 - val_loss: 0.7155 - val_accuracy: 0.7384\n",
            "Epoch 14/50\n",
            "23/23 [==============================] - 2s 104ms/step - loss: 0.8016 - accuracy: 0.6412 - val_loss: 0.7619 - val_accuracy: 0.6962\n",
            "Epoch 15/50\n",
            "23/23 [==============================] - 2s 108ms/step - loss: 0.7536 - accuracy: 0.6857 - val_loss: 0.6583 - val_accuracy: 0.7975\n",
            "Epoch 16/50\n",
            "23/23 [==============================] - 2s 107ms/step - loss: 0.6700 - accuracy: 0.7372 - val_loss: 0.6743 - val_accuracy: 0.7595\n",
            "Epoch 17/50\n",
            "23/23 [==============================] - 3s 110ms/step - loss: 0.6803 - accuracy: 0.7089 - val_loss: 0.7109 - val_accuracy: 0.6835\n",
            "Epoch 18/50\n",
            "23/23 [==============================] - 3s 117ms/step - loss: 0.7629 - accuracy: 0.6402 - val_loss: 0.6614 - val_accuracy: 0.7637\n",
            "Epoch 19/50\n",
            "23/23 [==============================] - 3s 112ms/step - loss: 0.6216 - accuracy: 0.7510 - val_loss: 0.6534 - val_accuracy: 0.7468\n",
            "Epoch 20/50\n",
            "23/23 [==============================] - 3s 118ms/step - loss: 0.6573 - accuracy: 0.7165 - val_loss: 0.6369 - val_accuracy: 0.7637\n",
            "Epoch 21/50\n",
            "23/23 [==============================] - 3s 117ms/step - loss: 0.5792 - accuracy: 0.7476 - val_loss: 0.6254 - val_accuracy: 0.7595\n",
            "Epoch 22/50\n",
            "23/23 [==============================] - 3s 121ms/step - loss: 0.6132 - accuracy: 0.7553 - val_loss: 0.8024 - val_accuracy: 0.6414\n",
            "Epoch 23/50\n",
            "23/23 [==============================] - 3s 121ms/step - loss: 0.6934 - accuracy: 0.6689 - val_loss: 0.6489 - val_accuracy: 0.7637\n",
            "Epoch 24/50\n",
            "23/23 [==============================] - 3s 117ms/step - loss: 0.5136 - accuracy: 0.7919 - val_loss: 0.6419 - val_accuracy: 0.7764\n",
            "Epoch 25/50\n",
            "23/23 [==============================] - 3s 110ms/step - loss: 0.5431 - accuracy: 0.8092 - val_loss: 0.5997 - val_accuracy: 0.7806\n",
            "Epoch 26/50\n",
            "23/23 [==============================] - 2s 107ms/step - loss: 0.5426 - accuracy: 0.7690 - val_loss: 0.5739 - val_accuracy: 0.7637\n",
            "Epoch 27/50\n",
            "23/23 [==============================] - 3s 113ms/step - loss: 0.4926 - accuracy: 0.7958 - val_loss: 0.5849 - val_accuracy: 0.7890\n",
            "Epoch 28/50\n",
            "23/23 [==============================] - 3s 113ms/step - loss: 0.4731 - accuracy: 0.8203 - val_loss: 0.6141 - val_accuracy: 0.7764\n",
            "Epoch 29/50\n",
            "23/23 [==============================] - 3s 120ms/step - loss: 0.5037 - accuracy: 0.8090 - val_loss: 0.6552 - val_accuracy: 0.7046\n",
            "Epoch 30/50\n",
            "23/23 [==============================] - 3s 117ms/step - loss: 0.4699 - accuracy: 0.8276 - val_loss: 0.5747 - val_accuracy: 0.8101\n",
            "Epoch 31/50\n",
            "23/23 [==============================] - 3s 119ms/step - loss: 0.5085 - accuracy: 0.7943 - val_loss: 0.5419 - val_accuracy: 0.8017\n",
            "Epoch 32/50\n",
            "23/23 [==============================] - 3s 126ms/step - loss: 0.4062 - accuracy: 0.8610 - val_loss: 0.5769 - val_accuracy: 0.8143\n",
            "Epoch 33/50\n",
            "23/23 [==============================] - 3s 122ms/step - loss: 0.3729 - accuracy: 0.8617 - val_loss: 0.7007 - val_accuracy: 0.7722\n",
            "Epoch 34/50\n",
            "23/23 [==============================] - 3s 118ms/step - loss: 0.3987 - accuracy: 0.8633 - val_loss: 0.6314 - val_accuracy: 0.7637\n",
            "Epoch 35/50\n",
            "23/23 [==============================] - 3s 124ms/step - loss: 0.4002 - accuracy: 0.8496 - val_loss: 0.7667 - val_accuracy: 0.6962\n",
            "Epoch 36/50\n",
            "23/23 [==============================] - 3s 117ms/step - loss: 0.5823 - accuracy: 0.7514 - val_loss: 0.6701 - val_accuracy: 0.7511\n",
            "Epoch 37/50\n",
            "23/23 [==============================] - 3s 120ms/step - loss: 0.3402 - accuracy: 0.8580 - val_loss: 0.6177 - val_accuracy: 0.8186\n",
            "Epoch 38/50\n",
            "23/23 [==============================] - 3s 121ms/step - loss: 0.4060 - accuracy: 0.8489 - val_loss: 0.5855 - val_accuracy: 0.7890\n",
            "Epoch 39/50\n",
            "23/23 [==============================] - 3s 124ms/step - loss: 0.3775 - accuracy: 0.8723 - val_loss: 0.6264 - val_accuracy: 0.7595\n",
            "Epoch 40/50\n",
            "23/23 [==============================] - 3s 124ms/step - loss: 0.3710 - accuracy: 0.8544 - val_loss: 0.6330 - val_accuracy: 0.7637\n",
            "Epoch 41/50\n",
            "23/23 [==============================] - 3s 128ms/step - loss: 0.3152 - accuracy: 0.8943 - val_loss: 0.6054 - val_accuracy: 0.8059\n",
            "Epoch 42/50\n",
            "23/23 [==============================] - 3s 135ms/step - loss: 0.3431 - accuracy: 0.8881 - val_loss: 0.7888 - val_accuracy: 0.7806\n",
            "Epoch 43/50\n",
            "23/23 [==============================] - 3s 138ms/step - loss: 0.3401 - accuracy: 0.8848 - val_loss: 0.6483 - val_accuracy: 0.8059\n",
            "Epoch 44/50\n",
            "23/23 [==============================] - 3s 137ms/step - loss: 0.2803 - accuracy: 0.9032 - val_loss: 0.5740 - val_accuracy: 0.8017\n",
            "Epoch 45/50\n",
            "23/23 [==============================] - 3s 141ms/step - loss: 0.2945 - accuracy: 0.9036 - val_loss: 0.6541 - val_accuracy: 0.8017\n",
            "Epoch 46/50\n",
            "23/23 [==============================] - 4s 153ms/step - loss: 0.2727 - accuracy: 0.9087 - val_loss: 0.6764 - val_accuracy: 0.8101\n",
            "Epoch 47/50\n",
            "23/23 [==============================] - 3s 137ms/step - loss: 0.2626 - accuracy: 0.9095 - val_loss: 0.7680 - val_accuracy: 0.7553\n",
            "Epoch 48/50\n",
            "23/23 [==============================] - 3s 147ms/step - loss: 0.2612 - accuracy: 0.9028 - val_loss: 0.8593 - val_accuracy: 0.7511\n",
            "Epoch 49/50\n",
            "23/23 [==============================] - 3s 137ms/step - loss: 0.3049 - accuracy: 0.8805 - val_loss: 0.7477 - val_accuracy: 0.7932\n",
            "Epoch 50/50\n",
            "23/23 [==============================] - 3s 147ms/step - loss: 0.2599 - accuracy: 0.9167 - val_loss: 0.6966 - val_accuracy: 0.8186\n"
          ],
          "name": "stdout"
        }
      ]
    },
    {
      "cell_type": "code",
      "metadata": {
        "colab": {
          "base_uri": "https://localhost:8080/",
          "height": 588
        },
        "id": "Tldml5PJWOK-",
        "outputId": "a0deda55-010f-4ccd-cc8f-164350aa85d6"
      },
      "source": [
        "import matplotlib.pyplot as plt\n",
        "\n",
        "print(H.history.keys())\n",
        "# summarize history for accuracy\n",
        "plt.plot(H.history['accuracy'])\n",
        "plt.plot(H.history['val_accuracy'])\n",
        "plt.title('model accuracy')\n",
        "plt.ylabel('accuracy')\n",
        "plt.xlabel('epoch')\n",
        "plt.legend(['train', 'test'], loc='upper left')\n",
        "plt.show()\n",
        "# summarize history for loss\n",
        "plt.plot(H.history['loss'])\n",
        "plt.plot(H.history['val_loss'])\n",
        "plt.title('model loss')\n",
        "plt.ylabel('loss')\n",
        "plt.xlabel('epoch')\n",
        "plt.legend(['train', 'test'], loc='upper left')\n",
        "plt.show()"
      ],
      "execution_count": 40,
      "outputs": [
        {
          "output_type": "stream",
          "text": [
            "dict_keys(['loss', 'accuracy', 'val_loss', 'val_accuracy'])\n"
          ],
          "name": "stdout"
        },
        {
          "output_type": "display_data",
          "data": {
            "image/png": "[encoded data removed]",
            "text/plain": [
              "<Figure size 432x288 with 1 Axes>"
            ]
          },
          "metadata": {
            "tags": [],
            "needs_background": "light"
          }
        },
        {
          "output_type": "display_data",
          "data": {
            "image/png": "[encoded data removed]",
            "text/plain": [
              "<Figure size 432x288 with 1 Axes>"
            ]
          },
          "metadata": {
            "tags": [],
            "needs_background": "light"
          }
        }
      ]
    },
    {
      "cell_type": "code",
      "metadata": {
        "colab": {
          "base_uri": "https://localhost:8080/"
        },
        "id": "S3POKgLRWXTx",
        "outputId": "b755034a-941a-491e-9243-d415fa1ccac1"
      },
      "source": [
        "# evaluate the network\n",
        "print(\"[INFO] evaluating network...\")\n",
        "predictions = model.predict(testX, batch_size=32)\n",
        "print(classification_report(testY.argmax(axis=1),\n",
        "\tpredictions.argmax(axis=1), target_names=lb.classes_))"
      ],
      "execution_count": 41,
      "outputs": [
        {
          "output_type": "stream",
          "text": [
            "[INFO] evaluating network...\n",
            "WARNING:tensorflow:Model was constructed with shape (None, 49152) for input KerasTensor(type_spec=TensorSpec(shape=(None, 49152), dtype=tf.float32, name='flatten_5_input'), name='flatten_5_input', description=\"created by layer 'flatten_5_input'\"), but it was called on an input with incompatible shape (None, 128, 128, 3).\n",
            "              precision    recall  f1-score   support\n",
            "\n",
            "       coast       0.79      0.90      0.84        88\n",
            "      forest       0.86      0.84      0.85        92\n",
            "     highway       0.81      0.67      0.73        57\n",
            "\n",
            "    accuracy                           0.82       237\n",
            "   macro avg       0.82      0.80      0.81       237\n",
            "weighted avg       0.82      0.82      0.82       237\n",
            "\n"
          ],
          "name": "stdout"
        }
      ]
    }
  ]
}